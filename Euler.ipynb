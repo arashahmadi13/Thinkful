{
 "cells": [
  {
   "cell_type": "markdown",
   "metadata": {},
   "source": [
    "#1"
   ]
  },
  {
   "cell_type": "code",
   "execution_count": 1,
   "metadata": {},
   "outputs": [
    {
     "name": "stdout",
     "output_type": "stream",
     "text": [
      "233168\n"
     ]
    }
   ],
   "source": [
    "mult_sum = 0\n",
    "for i in range(1000):\n",
    "    if i % 3 == 0 or i % 5 == 0:\n",
    "        mult_sum += i\n",
    "print(mult_sum)"
   ]
  },
  {
   "cell_type": "markdown",
   "metadata": {},
   "source": [
    "#2"
   ]
  },
  {
   "cell_type": "code",
   "execution_count": 2,
   "metadata": {},
   "outputs": [
    {
     "name": "stdout",
     "output_type": "stream",
     "text": [
      "4613732\n"
     ]
    }
   ],
   "source": [
    "x,y,n,total=0,1,0,0\n",
    "\n",
    "while n <= 4000000:\n",
    " n = x + y\n",
    " x = y\n",
    " y = n\n",
    " if n % 2 == 0:\n",
    "    total += n\n",
    "    \n",
    "print(total)"
   ]
  },
  {
   "cell_type": "markdown",
   "metadata": {},
   "source": [
    "#3"
   ]
  },
  {
   "cell_type": "code",
   "execution_count": 3,
   "metadata": {},
   "outputs": [],
   "source": [
    "def prime_factors(n):\n",
    "    i = 2\n",
    "    factors = []\n",
    "    while i*i <= n:\n",
    "        if n % i:\n",
    "            i += 1\n",
    "        else:\n",
    "            n //= i \n",
    "            factors.append(i)\n",
    "    if n > 1:\n",
    "        factors.append(n)\n",
    "    return factors"
   ]
  },
  {
   "cell_type": "code",
   "execution_count": 4,
   "metadata": {},
   "outputs": [
    {
     "data": {
      "text/plain": [
       "[5, 7, 13, 29]"
      ]
     },
     "execution_count": 4,
     "metadata": {},
     "output_type": "execute_result"
    }
   ],
   "source": [
    "\n",
    "prime_factors(13195)"
   ]
  },
  {
   "cell_type": "code",
   "execution_count": 5,
   "metadata": {},
   "outputs": [
    {
     "data": {
      "text/plain": [
       "[71, 839, 1471, 6857]"
      ]
     },
     "execution_count": 5,
     "metadata": {},
     "output_type": "execute_result"
    }
   ],
   "source": [
    "prime_factors(600851475143)"
   ]
  },
  {
   "cell_type": "markdown",
   "metadata": {},
   "source": [
    "#4"
   ]
  },
  {
   "cell_type": "code",
   "execution_count": 6,
   "metadata": {},
   "outputs": [
    {
     "name": "stdout",
     "output_type": "stream",
     "text": [
      "906609\n"
     ]
    }
   ],
   "source": [
    "palindromes = []\n",
    "for x in range (100, 999):\n",
    "    for i in range(100, 999):\n",
    "        num = str(i*x).split()[0]\n",
    "        if len(num) == 6:\n",
    "            if num[0] == num[-1] and num[1] == num[-2] and num[2] == num[-3]:\n",
    "                palindromes.append(i * x)\n",
    "print(max(palindromes))"
   ]
  },
  {
   "cell_type": "markdown",
   "metadata": {},
   "source": [
    "#5"
   ]
  },
  {
   "cell_type": "code",
   "execution_count": 7,
   "metadata": {},
   "outputs": [
    {
     "name": "stdout",
     "output_type": "stream",
     "text": [
      "2520\n",
      "232792560\n"
     ]
    }
   ],
   "source": [
    "def findSmallestMultiple(n):\n",
    "    for i in range(n, factorial(n) + 1, n):\n",
    "        if isMultiple(i, n):\n",
    "            return i\n",
    "    return -1\n",
    "\n",
    "def isMultiple(x, n):\n",
    "    for i in range(1, n):\n",
    "        if x % i != 0:\n",
    "            return False\n",
    "    return True\n",
    "\n",
    "def factorial(n):\n",
    "    if n > 1: return n * factorial(n - 1)\n",
    "    elif n >= 0: return 1\n",
    "    else: return -1\n",
    "\n",
    "print (findSmallestMultiple(10)) #2520\n",
    "print (findSmallestMultiple(20))"
   ]
  },
  {
   "cell_type": "markdown",
   "metadata": {},
   "source": [
    "#6"
   ]
  },
  {
   "cell_type": "code",
   "execution_count": 8,
   "metadata": {},
   "outputs": [
    {
     "name": "stdout",
     "output_type": "stream",
     "text": [
      "25164150\n"
     ]
    }
   ],
   "source": [
    "squares1 = 0\n",
    "squares2 = 0\n",
    "\n",
    "for i in range(0, 101):\n",
    "    squares1 = squares1 + (i*i)\n",
    "\n",
    "for i in range(0, 101):\n",
    "    squares2 = squares2 + i\n",
    "\n",
    "squares2 = squares2 **2\n",
    "\n",
    "print(squares2 - squares1)"
   ]
  },
  {
   "cell_type": "code",
   "execution_count": 9,
   "metadata": {},
   "outputs": [
    {
     "name": "stdout",
     "output_type": "stream",
     "text": [
      "104743\n"
     ]
    }
   ],
   "source": [
    "#7\n",
    "primes = []\n",
    "j = 2\n",
    "\n",
    "def primeNum(n, primes):\n",
    "    for i in range(2, len(primes)-1):\n",
    "        if n% i == 0:\n",
    "            return False\n",
    "        \n",
    "while len(primes) < 10002:\n",
    "    val = primeNum(j, primes)\n",
    "    if val != False:\n",
    "        primes.append(j)\n",
    "    j = j+1\n",
    "\n",
    "print(max(primes))"
   ]
  },
  {
   "cell_type": "code",
   "execution_count": 10,
   "metadata": {},
   "outputs": [
    {
     "data": {
      "text/plain": [
       "23514624000"
      ]
     },
     "execution_count": 10,
     "metadata": {},
     "output_type": "execute_result"
    }
   ],
   "source": [
    "#8\n",
    "number_list = 7316717653133062491922511967442657474235534919493496983520312774506326239578318016984801869478851843858615607891129494954595017379583319528532088055111254069874715852386305071569329096329522744304355766896648950445244523161731856403098711121722383113622298934233803081353362766142828064444866452387493035890729629049156044077239071381051585930796086670172427121883998797908792274921901699720888093776657273330010533678812202354218097512545405947522435258490771167055601360483958644670632441572215539753697817977846174064955149290862569321978468622482839722413756570560574902614079729686524145351004748216637048440319989000889524345065854122758866688116427171479924442928230863465674813919123162824586178664583591245665294765456828489128831426076900422421902267105562632111110937054421750694165896040807198403850962455444362981230987879927244284909188845801561660979191338754992005240636899125607176060588611646710940507754100225698315520005593572972571636269561882670428252483600823257530420752963450\n",
    "\n",
    "#def prod_n_adj_digits(input_num, n):\n",
    "num_list = []\n",
    "prods = []\n",
    "for num in str(number_list):\n",
    "    num_list.append(int(num))\n",
    "    for i in range(12, len(num_list)):\n",
    "        prod = num_list[i] * num_list[i-1] * num_list[i-2] * num_list[i-3] * num_list[i-4] * num_list[i-5] * num_list[i-6] * num_list[i-7] * num_list[i-8] * num_list[i-9] * num_list[i-10] * num_list[i-11] * num_list[i-12]\n",
    "        prods.append(prod)\n",
    "max(prods)"
   ]
  },
  {
   "cell_type": "code",
   "execution_count": 11,
   "metadata": {},
   "outputs": [
    {
     "name": "stdout",
     "output_type": "stream",
     "text": [
      "31875000\n"
     ]
    }
   ],
   "source": [
    "#9\n",
    "a_list = range(1000)\n",
    "b_list = range(1000)\n",
    "for a in a_list:\n",
    "    for b in b_list:\n",
    "        c = 1000 - a - b\n",
    "        if a < b and b < c and a**2 + b**2 == c**2 and a+b+c==1000:\n",
    "            print(a*b*c)"
   ]
  },
  {
   "cell_type": "code",
   "execution_count": 12,
   "metadata": {},
   "outputs": [
    {
     "name": "stdout",
     "output_type": "stream",
     "text": [
      "142913828922\n"
     ]
    }
   ],
   "source": [
    "#10\n",
    "def prime_sum(n):\n",
    "    if n < 2: return 0\n",
    "    if n == 2: return 2\n",
    "    if n % 2 == 0: n += 1\n",
    "    primes = [True] * n\n",
    "    primes[0],primes[1] = [None] * 2\n",
    "    sum = 0\n",
    "    for ind,val in enumerate(primes):\n",
    "        if val is True and ind > n ** 0.5 + 1:\n",
    "            sum += ind\n",
    "        elif val is True:\n",
    "            primes[ind*2::ind] = [False] * (((n - 1)//ind) - 1)\n",
    "            sum += ind\n",
    "    return sum\n",
    "\n",
    "print(prime_sum(2000000))"
   ]
  },
  {
   "cell_type": "code",
   "execution_count": null,
   "metadata": {},
   "outputs": [],
   "source": []
  }
 ],
 "metadata": {
  "kernelspec": {
   "display_name": "Python 3",
   "language": "python",
   "name": "python3"
  },
  "language_info": {
   "codemirror_mode": {
    "name": "ipython",
    "version": 3
   },
   "file_extension": ".py",
   "mimetype": "text/x-python",
   "name": "python",
   "nbconvert_exporter": "python",
   "pygments_lexer": "ipython3",
   "version": "3.7.4"
  }
 },
 "nbformat": 4,
 "nbformat_minor": 4
}
