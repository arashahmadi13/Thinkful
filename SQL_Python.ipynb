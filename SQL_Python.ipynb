{
 "cells": [
  {
   "cell_type": "code",
   "execution_count": 1,
   "metadata": {},
   "outputs": [],
   "source": [
    "from sqlalchemy import create_engine\n",
    "import numpy as np"
   ]
  },
  {
   "cell_type": "code",
   "execution_count": 3,
   "metadata": {},
   "outputs": [],
   "source": [
    "# Database credentials\n",
    "postgres_user = 'dsbc_student'\n",
    "postgres_pw = '7*.8G9QH21'\n",
    "postgres_host = '142.93.121.174'\n",
    "postgres_port = '5432'\n",
    "postgres_db = 'dvdrentals'\n",
    "\n",
    "# use the credentials to start a connection\n",
    "engine = create_engine('postgresql://{}:{}@{}:{}/{}'.format(\n",
    "    postgres_user, postgres_pw, postgres_host, postgres_port, postgres_db))"
   ]
  },
  {
   "cell_type": "code",
   "execution_count": 12,
   "metadata": {},
   "outputs": [
    {
     "data": {
      "text/plain": [
       "['film_id',\n",
       " 'title',\n",
       " 'description',\n",
       " 'release_year',\n",
       " 'language_id',\n",
       " 'original_language_id',\n",
       " 'rental_duration',\n",
       " 'rental_rate',\n",
       " 'length',\n",
       " 'replacement_cost',\n",
       " 'rating',\n",
       " 'last_update',\n",
       " 'special_features',\n",
       " 'fulltext']"
      ]
     },
     "execution_count": 12,
     "metadata": {},
     "output_type": "execute_result"
    }
   ],
   "source": [
    "film = engine.execute('select * from film')\n",
    "engine.dispose()\n",
    "\n",
    "rows = film.fetchall()\n",
    "\n",
    "film.keys()"
   ]
  },
  {
   "cell_type": "code",
   "execution_count": 16,
   "metadata": {},
   "outputs": [
    {
     "name": "stdout",
     "output_type": "stream",
     "text": [
      "Rating R has released 195 movies.\n",
      "Rating NC-17 has released 210 movies.\n",
      "Rating PG has released 194 movies.\n",
      "Rating PG-13 has released 223 movies.\n",
      "Rating G has released 178 movies.\n"
     ]
    }
   ],
   "source": [
    "#How many movies are released for each rating?\n",
    "sql = '''\n",
    "select count(*), rating\n",
    "from film\n",
    "group by rating\n",
    "'''\n",
    "count = engine.execute(sql)\n",
    "engine.dispose()\n",
    "\n",
    "rows = count.fetchall()\n",
    "for row in rows:\n",
    "    print('Rating {} has released {} movies.'.format(row[1],row[0]))"
   ]
  },
  {
   "cell_type": "code",
   "execution_count": 19,
   "metadata": {},
   "outputs": [
    {
     "name": "stdout",
     "output_type": "stream",
     "text": [
      "Average rental duration for R rating is 4.7743589743589744.\n",
      "Average rental duration for NC-17 rating is 5.1428571428571429.\n",
      "Average rental duration for PG rating is 5.0824742268041237.\n",
      "Average rental duration for PG-13 rating is 5.0538116591928251.\n",
      "Average rental duration for G rating is 4.8370786516853933.\n"
     ]
    }
   ],
   "source": [
    "#What is the average rental duration for each rating?\n",
    "sql = '''\n",
    "select avg(rental_duration), rating\n",
    "from film\n",
    "group by rating\n",
    "'''\n",
    "\n",
    "average = engine.execute(sql)\n",
    "engine.dispose()\n",
    "rows = average.fetchall()\n",
    "\n",
    "for row in rows:\n",
    "    print('Average rental duration for {} rating is {}.'.format(row[1],row[0]))"
   ]
  },
  {
   "cell_type": "code",
   "execution_count": 25,
   "metadata": {},
   "outputs": [
    {
     "name": "stdout",
     "output_type": "stream",
     "text": [
      "115.272\n",
      "The mean of movie length is 115.272.\n",
      "The median is 114.0.\n",
      "The std is 40.40611359683086.\n"
     ]
    }
   ],
   "source": [
    "#What is the mean movie length? Calculate this by defining a function.\n",
    "sql = '''\n",
    "select length\n",
    "from film\n",
    "'''\n",
    "\n",
    "length = engine.execute(sql)\n",
    "engine.dispose()\n",
    "rows = length.fetchall()\n",
    "\n",
    "print(np.mean(rows))\n",
    "\n",
    "def mean(rows):\n",
    "    sum = 0\n",
    "    for row in rows:\n",
    "        sum += row[0]\n",
    "    row_length = len(rows)\n",
    "    avg = sum / row_length\n",
    "    return avg\n",
    "print('The mean of movie length is {}.'.format(mean(rows)))\n",
    "\n",
    "#What is the median movie length? Calculate this by defining a function.\n",
    "\n",
    "print('The median is {}.'.format(np.median(rows)))\n",
    "print('The std is {}.'.format(np.std(rows)))"
   ]
  },
  {
   "cell_type": "code",
   "execution_count": null,
   "metadata": {},
   "outputs": [],
   "source": [
    "#"
   ]
  }
 ],
 "metadata": {
  "kernelspec": {
   "display_name": "Python 3",
   "language": "python",
   "name": "python3"
  },
  "language_info": {
   "codemirror_mode": {
    "name": "ipython",
    "version": 3
   },
   "file_extension": ".py",
   "mimetype": "text/x-python",
   "name": "python",
   "nbconvert_exporter": "python",
   "pygments_lexer": "ipython3",
   "version": "3.7.3"
  }
 },
 "nbformat": 4,
 "nbformat_minor": 2
}
