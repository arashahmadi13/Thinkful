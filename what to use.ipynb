{
 "cells": [
  {
   "cell_type": "code",
   "execution_count": 1,
   "metadata": {},
   "outputs": [],
   "source": [
    "import pandas as pd\n",
    "import numpy as np\n",
    "import matplotlib.pyplot as plt\n",
    "import seaborn as sns\n",
    "%matplotlib inline"
   ]
  },
  {
   "cell_type": "code",
   "execution_count": 3,
   "metadata": {},
   "outputs": [
    {
     "data": {
      "text/html": [
       "<div>\n",
       "<style scoped>\n",
       "    .dataframe tbody tr th:only-of-type {\n",
       "        vertical-align: middle;\n",
       "    }\n",
       "\n",
       "    .dataframe tbody tr th {\n",
       "        vertical-align: top;\n",
       "    }\n",
       "\n",
       "    .dataframe thead th {\n",
       "        text-align: right;\n",
       "    }\n",
       "</style>\n",
       "<table border=\"1\" class=\"dataframe\">\n",
       "  <thead>\n",
       "    <tr style=\"text-align: right;\">\n",
       "      <th></th>\n",
       "      <th>cntry</th>\n",
       "      <th>idno</th>\n",
       "      <th>year</th>\n",
       "      <th>tvtot</th>\n",
       "      <th>ppltrst</th>\n",
       "      <th>pplfair</th>\n",
       "      <th>pplhlp</th>\n",
       "      <th>happy</th>\n",
       "      <th>sclmeet</th>\n",
       "      <th>sclact</th>\n",
       "      <th>gndr</th>\n",
       "      <th>agea</th>\n",
       "      <th>partner</th>\n",
       "    </tr>\n",
       "  </thead>\n",
       "  <tbody>\n",
       "    <tr>\n",
       "      <th>0</th>\n",
       "      <td>CH</td>\n",
       "      <td>5.0</td>\n",
       "      <td>6</td>\n",
       "      <td>3.0</td>\n",
       "      <td>3.0</td>\n",
       "      <td>10.0</td>\n",
       "      <td>5.0</td>\n",
       "      <td>8.0</td>\n",
       "      <td>5.0</td>\n",
       "      <td>4.0</td>\n",
       "      <td>2.0</td>\n",
       "      <td>60.0</td>\n",
       "      <td>1.0</td>\n",
       "    </tr>\n",
       "    <tr>\n",
       "      <th>1</th>\n",
       "      <td>CH</td>\n",
       "      <td>25.0</td>\n",
       "      <td>6</td>\n",
       "      <td>6.0</td>\n",
       "      <td>5.0</td>\n",
       "      <td>7.0</td>\n",
       "      <td>5.0</td>\n",
       "      <td>9.0</td>\n",
       "      <td>3.0</td>\n",
       "      <td>2.0</td>\n",
       "      <td>2.0</td>\n",
       "      <td>59.0</td>\n",
       "      <td>1.0</td>\n",
       "    </tr>\n",
       "    <tr>\n",
       "      <th>2</th>\n",
       "      <td>CH</td>\n",
       "      <td>26.0</td>\n",
       "      <td>6</td>\n",
       "      <td>1.0</td>\n",
       "      <td>8.0</td>\n",
       "      <td>8.0</td>\n",
       "      <td>8.0</td>\n",
       "      <td>7.0</td>\n",
       "      <td>6.0</td>\n",
       "      <td>3.0</td>\n",
       "      <td>1.0</td>\n",
       "      <td>24.0</td>\n",
       "      <td>2.0</td>\n",
       "    </tr>\n",
       "    <tr>\n",
       "      <th>3</th>\n",
       "      <td>CH</td>\n",
       "      <td>28.0</td>\n",
       "      <td>6</td>\n",
       "      <td>4.0</td>\n",
       "      <td>6.0</td>\n",
       "      <td>6.0</td>\n",
       "      <td>7.0</td>\n",
       "      <td>10.0</td>\n",
       "      <td>6.0</td>\n",
       "      <td>2.0</td>\n",
       "      <td>2.0</td>\n",
       "      <td>64.0</td>\n",
       "      <td>1.0</td>\n",
       "    </tr>\n",
       "    <tr>\n",
       "      <th>4</th>\n",
       "      <td>CH</td>\n",
       "      <td>29.0</td>\n",
       "      <td>6</td>\n",
       "      <td>5.0</td>\n",
       "      <td>6.0</td>\n",
       "      <td>7.0</td>\n",
       "      <td>5.0</td>\n",
       "      <td>8.0</td>\n",
       "      <td>7.0</td>\n",
       "      <td>2.0</td>\n",
       "      <td>2.0</td>\n",
       "      <td>55.0</td>\n",
       "      <td>1.0</td>\n",
       "    </tr>\n",
       "  </tbody>\n",
       "</table>\n",
       "</div>"
      ],
      "text/plain": [
       "  cntry  idno  year  tvtot  ppltrst  pplfair  pplhlp  happy  sclmeet  sclact  \\\n",
       "0    CH   5.0     6    3.0      3.0     10.0     5.0    8.0      5.0     4.0   \n",
       "1    CH  25.0     6    6.0      5.0      7.0     5.0    9.0      3.0     2.0   \n",
       "2    CH  26.0     6    1.0      8.0      8.0     8.0    7.0      6.0     3.0   \n",
       "3    CH  28.0     6    4.0      6.0      6.0     7.0   10.0      6.0     2.0   \n",
       "4    CH  29.0     6    5.0      6.0      7.0     5.0    8.0      7.0     2.0   \n",
       "\n",
       "   gndr  agea  partner  \n",
       "0   2.0  60.0      1.0  \n",
       "1   2.0  59.0      1.0  \n",
       "2   1.0  24.0      2.0  \n",
       "3   2.0  64.0      1.0  \n",
       "4   2.0  55.0      1.0  "
      ]
     },
     "execution_count": 3,
     "metadata": {},
     "output_type": "execute_result"
    }
   ],
   "source": [
    "df = pd.read_csv('ESSdata_Thinkful.csv')\n",
    "df.head()"
   ]
  },
  {
   "cell_type": "code",
   "execution_count": 4,
   "metadata": {},
   "outputs": [
    {
     "data": {
      "text/html": [
       "<div>\n",
       "<style scoped>\n",
       "    .dataframe tbody tr th:only-of-type {\n",
       "        vertical-align: middle;\n",
       "    }\n",
       "\n",
       "    .dataframe tbody tr th {\n",
       "        vertical-align: top;\n",
       "    }\n",
       "\n",
       "    .dataframe thead th {\n",
       "        text-align: right;\n",
       "    }\n",
       "</style>\n",
       "<table border=\"1\" class=\"dataframe\">\n",
       "  <thead>\n",
       "    <tr style=\"text-align: right;\">\n",
       "      <th></th>\n",
       "      <th>idno</th>\n",
       "      <th>year</th>\n",
       "      <th>tvtot</th>\n",
       "      <th>ppltrst</th>\n",
       "      <th>pplfair</th>\n",
       "      <th>pplhlp</th>\n",
       "      <th>happy</th>\n",
       "      <th>sclmeet</th>\n",
       "      <th>sclact</th>\n",
       "      <th>gndr</th>\n",
       "      <th>agea</th>\n",
       "      <th>partner</th>\n",
       "    </tr>\n",
       "  </thead>\n",
       "  <tbody>\n",
       "    <tr>\n",
       "      <th>count</th>\n",
       "      <td>8.594000e+03</td>\n",
       "      <td>8594.000000</td>\n",
       "      <td>8586.000000</td>\n",
       "      <td>8580.000000</td>\n",
       "      <td>8555.000000</td>\n",
       "      <td>8569.000000</td>\n",
       "      <td>8563.000000</td>\n",
       "      <td>8579.000000</td>\n",
       "      <td>8500.000000</td>\n",
       "      <td>8584.000000</td>\n",
       "      <td>8355.000000</td>\n",
       "      <td>8577.000000</td>\n",
       "    </tr>\n",
       "    <tr>\n",
       "      <th>mean</th>\n",
       "      <td>3.954938e+04</td>\n",
       "      <td>6.500000</td>\n",
       "      <td>3.861985</td>\n",
       "      <td>5.559907</td>\n",
       "      <td>6.005143</td>\n",
       "      <td>5.319874</td>\n",
       "      <td>7.694616</td>\n",
       "      <td>5.192563</td>\n",
       "      <td>2.748941</td>\n",
       "      <td>1.497204</td>\n",
       "      <td>47.470736</td>\n",
       "      <td>1.384867</td>\n",
       "    </tr>\n",
       "    <tr>\n",
       "      <th>std</th>\n",
       "      <td>6.267259e+05</td>\n",
       "      <td>0.500029</td>\n",
       "      <td>2.019689</td>\n",
       "      <td>2.233700</td>\n",
       "      <td>2.129866</td>\n",
       "      <td>2.173449</td>\n",
       "      <td>1.735904</td>\n",
       "      <td>1.457643</td>\n",
       "      <td>0.905477</td>\n",
       "      <td>0.500021</td>\n",
       "      <td>18.397369</td>\n",
       "      <td>0.486592</td>\n",
       "    </tr>\n",
       "    <tr>\n",
       "      <th>min</th>\n",
       "      <td>1.000000e+00</td>\n",
       "      <td>6.000000</td>\n",
       "      <td>0.000000</td>\n",
       "      <td>0.000000</td>\n",
       "      <td>0.000000</td>\n",
       "      <td>0.000000</td>\n",
       "      <td>0.000000</td>\n",
       "      <td>1.000000</td>\n",
       "      <td>1.000000</td>\n",
       "      <td>1.000000</td>\n",
       "      <td>15.000000</td>\n",
       "      <td>1.000000</td>\n",
       "    </tr>\n",
       "    <tr>\n",
       "      <th>25%</th>\n",
       "      <td>1.052000e+03</td>\n",
       "      <td>6.000000</td>\n",
       "      <td>2.000000</td>\n",
       "      <td>4.000000</td>\n",
       "      <td>5.000000</td>\n",
       "      <td>4.000000</td>\n",
       "      <td>7.000000</td>\n",
       "      <td>4.000000</td>\n",
       "      <td>2.000000</td>\n",
       "      <td>1.000000</td>\n",
       "      <td>33.000000</td>\n",
       "      <td>1.000000</td>\n",
       "    </tr>\n",
       "    <tr>\n",
       "      <th>50%</th>\n",
       "      <td>1.714000e+03</td>\n",
       "      <td>6.500000</td>\n",
       "      <td>4.000000</td>\n",
       "      <td>6.000000</td>\n",
       "      <td>6.000000</td>\n",
       "      <td>5.000000</td>\n",
       "      <td>8.000000</td>\n",
       "      <td>6.000000</td>\n",
       "      <td>3.000000</td>\n",
       "      <td>1.000000</td>\n",
       "      <td>47.000000</td>\n",
       "      <td>1.000000</td>\n",
       "    </tr>\n",
       "    <tr>\n",
       "      <th>75%</th>\n",
       "      <td>2.745000e+03</td>\n",
       "      <td>7.000000</td>\n",
       "      <td>5.000000</td>\n",
       "      <td>7.000000</td>\n",
       "      <td>8.000000</td>\n",
       "      <td>7.000000</td>\n",
       "      <td>9.000000</td>\n",
       "      <td>6.000000</td>\n",
       "      <td>3.000000</td>\n",
       "      <td>2.000000</td>\n",
       "      <td>62.000000</td>\n",
       "      <td>2.000000</td>\n",
       "    </tr>\n",
       "    <tr>\n",
       "      <th>max</th>\n",
       "      <td>1.100143e+07</td>\n",
       "      <td>7.000000</td>\n",
       "      <td>7.000000</td>\n",
       "      <td>10.000000</td>\n",
       "      <td>10.000000</td>\n",
       "      <td>10.000000</td>\n",
       "      <td>10.000000</td>\n",
       "      <td>7.000000</td>\n",
       "      <td>5.000000</td>\n",
       "      <td>2.000000</td>\n",
       "      <td>114.000000</td>\n",
       "      <td>2.000000</td>\n",
       "    </tr>\n",
       "  </tbody>\n",
       "</table>\n",
       "</div>"
      ],
      "text/plain": [
       "               idno         year        tvtot      ppltrst      pplfair  \\\n",
       "count  8.594000e+03  8594.000000  8586.000000  8580.000000  8555.000000   \n",
       "mean   3.954938e+04     6.500000     3.861985     5.559907     6.005143   \n",
       "std    6.267259e+05     0.500029     2.019689     2.233700     2.129866   \n",
       "min    1.000000e+00     6.000000     0.000000     0.000000     0.000000   \n",
       "25%    1.052000e+03     6.000000     2.000000     4.000000     5.000000   \n",
       "50%    1.714000e+03     6.500000     4.000000     6.000000     6.000000   \n",
       "75%    2.745000e+03     7.000000     5.000000     7.000000     8.000000   \n",
       "max    1.100143e+07     7.000000     7.000000    10.000000    10.000000   \n",
       "\n",
       "            pplhlp        happy      sclmeet       sclact         gndr  \\\n",
       "count  8569.000000  8563.000000  8579.000000  8500.000000  8584.000000   \n",
       "mean      5.319874     7.694616     5.192563     2.748941     1.497204   \n",
       "std       2.173449     1.735904     1.457643     0.905477     0.500021   \n",
       "min       0.000000     0.000000     1.000000     1.000000     1.000000   \n",
       "25%       4.000000     7.000000     4.000000     2.000000     1.000000   \n",
       "50%       5.000000     8.000000     6.000000     3.000000     1.000000   \n",
       "75%       7.000000     9.000000     6.000000     3.000000     2.000000   \n",
       "max      10.000000    10.000000     7.000000     5.000000     2.000000   \n",
       "\n",
       "              agea      partner  \n",
       "count  8355.000000  8577.000000  \n",
       "mean     47.470736     1.384867  \n",
       "std      18.397369     0.486592  \n",
       "min      15.000000     1.000000  \n",
       "25%      33.000000     1.000000  \n",
       "50%      47.000000     1.000000  \n",
       "75%      62.000000     2.000000  \n",
       "max     114.000000     2.000000  "
      ]
     },
     "execution_count": 4,
     "metadata": {},
     "output_type": "execute_result"
    }
   ],
   "source": [
    "df.describe()"
   ]
  },
  {
   "cell_type": "code",
   "execution_count": 5,
   "metadata": {},
   "outputs": [
    {
     "name": "stdout",
     "output_type": "stream",
     "text": [
      "Number of observations in the dataframe: 8594\n",
      "Number of NaN observations in each column:\n",
      "cntry        0\n",
      "idno         0\n",
      "year         0\n",
      "tvtot        8\n",
      "ppltrst     14\n",
      "pplfair     39\n",
      "pplhlp      25\n",
      "happy       31\n",
      "sclmeet     15\n",
      "sclact      94\n",
      "gndr        10\n",
      "agea       239\n",
      "partner     17\n",
      "dtype: int64\n"
     ]
    }
   ],
   "source": [
    "#Check to see if any nulls\n",
    "print('Number of observations in the dataframe: {}'.format(len(df)))\n",
    "print('Number of NaN observations in each column:\\n{}'.format(np.sum(df.isnull())))"
   ]
  },
  {
   "cell_type": "code",
   "execution_count": 6,
   "metadata": {},
   "outputs": [
    {
     "name": "stdout",
     "output_type": "stream",
     "text": [
      "Percentage of dataset remaining: 0.9479869676518501\n"
     ]
    }
   ],
   "source": [
    "print('Percentage of dataset remaining: {}'.format(len(df.dropna())/len(df)))\n",
    "df = df.dropna()"
   ]
  },
  {
   "cell_type": "code",
   "execution_count": 7,
   "metadata": {},
   "outputs": [],
   "source": [
    "#Draw histograms, excluding cntry (because it is character, and df.hist won't work), idno, and year\n",
    "\n",
    "def draw_hists(df, desired_rows, desired_columns):\n",
    "    fig = plt.figure(figsize = (10,10)) #Creates the figure instance\n",
    "    for i, col in enumerate(df.columns):\n",
    "        ax = fig.add_subplot(desired_rows, desired_columns, i+1) #create an axes object for each subplot\n",
    "        ax.set_title(col + \" Distribution\")\n",
    "        df[col].hist(ax = ax) #axes objects have the plotting methods. this creates a plot to add to the figure\n",
    "    \n",
    "    plt.tight_layout()\n",
    "    plt.show()"
   ]
  },
  {
   "cell_type": "code",
   "execution_count": 8,
   "metadata": {},
   "outputs": [
    {
     "name": "stdout",
     "output_type": "stream",
     "text": [
      "Year 2012 \n",
      "\n"
     ]
    },
    {
     "data": {
      "image/png": "[encoded data removed]",
      "text/plain": [
       "<Figure size 720x720 with 11 Axes>"
      ]
     },
     "metadata": {
      "needs_background": "light"
     },
     "output_type": "display_data"
    }
   ],
   "source": [
    "df2 = df.drop(['cntry', 'idno'], 1)\n",
    "print('Year 2012 \\n')\n",
    "draw_hists(df2[df2['year'] == 6], 5, 3)"
   ]
  },
  {
   "cell_type": "code",
   "execution_count": 9,
   "metadata": {},
   "outputs": [
    {
     "name": "stdout",
     "output_type": "stream",
     "text": [
      "Year 2014 \n",
      "\n"
     ]
    },
    {
     "data": {
      "image/png": "[encoded data removed]",
      "text/plain": [
       "<Figure size 720x720 with 11 Axes>"
      ]
     },
     "metadata": {
      "needs_background": "light"
     },
     "output_type": "display_data"
    }
   ],
   "source": [
    "\n",
    "print('Year 2014 \\n')\n",
    "draw_hists(df2[df2['year'] == 7], 5, 3)"
   ]
  },
  {
   "cell_type": "code",
   "execution_count": 10,
   "metadata": {},
   "outputs": [],
   "source": [
    "import scipy.stats as stats"
   ]
  },
  {
   "cell_type": "code",
   "execution_count": 11,
   "metadata": {},
   "outputs": [
    {
     "name": "stdout",
     "output_type": "stream",
     "text": [
      "2012:  (0.9520939588546753, 1.4426241793085802e-34)\n",
      "2014:  (0.9580563902854919, 9.222525335052542e-33)\n"
     ]
    }
   ],
   "source": [
    "#If the p-value is greater than 0.05, then the null hypothesis is not rejected, which means the data is normally distributed.\n",
    "\n",
    "print('2012: ', stats.shapiro(df[df['year'] == 6]['ppltrst']))\n",
    "print('2014: ', stats.shapiro(df[df['year'] == 7]['ppltrst']))"
   ]
  },
  {
   "cell_type": "code",
   "execution_count": 12,
   "metadata": {},
   "outputs": [
    {
     "name": "stdout",
     "output_type": "stream",
     "text": [
      "4071\n",
      "4076\n"
     ]
    }
   ],
   "source": [
    "#We also have slightly different numbers of responders in 2012 and 2014, so we now need to make sure we're only inlcuding\n",
    "#idnos where the person responded for both years\n",
    "\n",
    "df_12 = df[df['year'] == 6]\n",
    "df_14 = df[df['year'] == 7]\n",
    "\n",
    "print(len(df_12))\n",
    "print(len(df_14))"
   ]
  },
  {
   "cell_type": "code",
   "execution_count": 13,
   "metadata": {},
   "outputs": [
    {
     "data": {
      "text/html": [
       "<div>\n",
       "<style scoped>\n",
       "    .dataframe tbody tr th:only-of-type {\n",
       "        vertical-align: middle;\n",
       "    }\n",
       "\n",
       "    .dataframe tbody tr th {\n",
       "        vertical-align: top;\n",
       "    }\n",
       "\n",
       "    .dataframe thead th {\n",
       "        text-align: right;\n",
       "    }\n",
       "</style>\n",
       "<table border=\"1\" class=\"dataframe\">\n",
       "  <thead>\n",
       "    <tr style=\"text-align: right;\">\n",
       "      <th></th>\n",
       "      <th>cntry</th>\n",
       "      <th>idno</th>\n",
       "      <th>year</th>\n",
       "      <th>tvtot</th>\n",
       "      <th>ppltrst</th>\n",
       "      <th>pplfair</th>\n",
       "      <th>pplhlp</th>\n",
       "      <th>happy</th>\n",
       "      <th>sclmeet</th>\n",
       "      <th>sclact</th>\n",
       "      <th>gndr</th>\n",
       "      <th>agea</th>\n",
       "      <th>partner</th>\n",
       "    </tr>\n",
       "  </thead>\n",
       "  <tbody>\n",
       "    <tr>\n",
       "      <th>0</th>\n",
       "      <td>CH</td>\n",
       "      <td>5.0</td>\n",
       "      <td>6</td>\n",
       "      <td>3.0</td>\n",
       "      <td>3.0</td>\n",
       "      <td>10.0</td>\n",
       "      <td>5.0</td>\n",
       "      <td>8.0</td>\n",
       "      <td>5.0</td>\n",
       "      <td>4.0</td>\n",
       "      <td>2.0</td>\n",
       "      <td>60.0</td>\n",
       "      <td>1.0</td>\n",
       "    </tr>\n",
       "    <tr>\n",
       "      <th>773</th>\n",
       "      <td>CH</td>\n",
       "      <td>5.0</td>\n",
       "      <td>7</td>\n",
       "      <td>2.0</td>\n",
       "      <td>8.0</td>\n",
       "      <td>9.0</td>\n",
       "      <td>7.0</td>\n",
       "      <td>9.0</td>\n",
       "      <td>6.0</td>\n",
       "      <td>4.0</td>\n",
       "      <td>1.0</td>\n",
       "      <td>69.0</td>\n",
       "      <td>1.0</td>\n",
       "    </tr>\n",
       "    <tr>\n",
       "      <th>2892</th>\n",
       "      <td>ES</td>\n",
       "      <td>5.0</td>\n",
       "      <td>6</td>\n",
       "      <td>4.0</td>\n",
       "      <td>5.0</td>\n",
       "      <td>7.0</td>\n",
       "      <td>5.0</td>\n",
       "      <td>10.0</td>\n",
       "      <td>6.0</td>\n",
       "      <td>1.0</td>\n",
       "      <td>2.0</td>\n",
       "      <td>38.0</td>\n",
       "      <td>1.0</td>\n",
       "    </tr>\n",
       "    <tr>\n",
       "      <th>4105</th>\n",
       "      <td>ES</td>\n",
       "      <td>5.0</td>\n",
       "      <td>7</td>\n",
       "      <td>2.0</td>\n",
       "      <td>7.0</td>\n",
       "      <td>7.0</td>\n",
       "      <td>6.0</td>\n",
       "      <td>8.0</td>\n",
       "      <td>7.0</td>\n",
       "      <td>3.0</td>\n",
       "      <td>1.0</td>\n",
       "      <td>46.0</td>\n",
       "      <td>1.0</td>\n",
       "    </tr>\n",
       "  </tbody>\n",
       "</table>\n",
       "</div>"
      ],
      "text/plain": [
       "     cntry  idno  year  tvtot  ppltrst  pplfair  pplhlp  happy  sclmeet  \\\n",
       "0       CH   5.0     6    3.0      3.0     10.0     5.0    8.0      5.0   \n",
       "773     CH   5.0     7    2.0      8.0      9.0     7.0    9.0      6.0   \n",
       "2892    ES   5.0     6    4.0      5.0      7.0     5.0   10.0      6.0   \n",
       "4105    ES   5.0     7    2.0      7.0      7.0     6.0    8.0      7.0   \n",
       "\n",
       "      sclact  gndr  agea  partner  \n",
       "0        4.0   2.0  60.0      1.0  \n",
       "773      4.0   1.0  69.0      1.0  \n",
       "2892     1.0   2.0  38.0      1.0  \n",
       "4105     3.0   1.0  46.0      1.0  "
      ]
     },
     "execution_count": 13,
     "metadata": {},
     "output_type": "execute_result"
    }
   ],
   "source": [
    "#Further inspection reveals that there are duplicate idnos, but they appear to be unique on (cntry & idno)\n",
    "df[df['idno'] == 5.0]"
   ]
  },
  {
   "cell_type": "code",
   "execution_count": 14,
   "metadata": {},
   "outputs": [
    {
     "data": {
      "text/plain": [
       "3877"
      ]
     },
     "execution_count": 14,
     "metadata": {},
     "output_type": "execute_result"
    }
   ],
   "source": [
    "result = df_12.merge(df_14, on = ['cntry', 'idno'], how = 'inner')\n",
    "len(result)"
   ]
  },
  {
   "cell_type": "code",
   "execution_count": 15,
   "metadata": {},
   "outputs": [
    {
     "data": {
      "text/html": [
       "<div>\n",
       "<style scoped>\n",
       "    .dataframe tbody tr th:only-of-type {\n",
       "        vertical-align: middle;\n",
       "    }\n",
       "\n",
       "    .dataframe tbody tr th {\n",
       "        vertical-align: top;\n",
       "    }\n",
       "\n",
       "    .dataframe thead th {\n",
       "        text-align: right;\n",
       "    }\n",
       "</style>\n",
       "<table border=\"1\" class=\"dataframe\">\n",
       "  <thead>\n",
       "    <tr style=\"text-align: right;\">\n",
       "      <th></th>\n",
       "      <th>cntry</th>\n",
       "      <th>idno</th>\n",
       "      <th>year_x</th>\n",
       "      <th>tvtot_x</th>\n",
       "      <th>ppltrst_x</th>\n",
       "      <th>pplfair_x</th>\n",
       "      <th>pplhlp_x</th>\n",
       "      <th>happy_x</th>\n",
       "      <th>sclmeet_x</th>\n",
       "      <th>sclact_x</th>\n",
       "      <th>...</th>\n",
       "      <th>tvtot_y</th>\n",
       "      <th>ppltrst_y</th>\n",
       "      <th>pplfair_y</th>\n",
       "      <th>pplhlp_y</th>\n",
       "      <th>happy_y</th>\n",
       "      <th>sclmeet_y</th>\n",
       "      <th>sclact_y</th>\n",
       "      <th>gndr_y</th>\n",
       "      <th>agea_y</th>\n",
       "      <th>partner_y</th>\n",
       "    </tr>\n",
       "  </thead>\n",
       "  <tbody>\n",
       "    <tr>\n",
       "      <th>0</th>\n",
       "      <td>CH</td>\n",
       "      <td>5.0</td>\n",
       "      <td>6</td>\n",
       "      <td>3.0</td>\n",
       "      <td>3.0</td>\n",
       "      <td>10.0</td>\n",
       "      <td>5.0</td>\n",
       "      <td>8.0</td>\n",
       "      <td>5.0</td>\n",
       "      <td>4.0</td>\n",
       "      <td>...</td>\n",
       "      <td>2.0</td>\n",
       "      <td>8.0</td>\n",
       "      <td>9.0</td>\n",
       "      <td>7.0</td>\n",
       "      <td>9.0</td>\n",
       "      <td>6.0</td>\n",
       "      <td>4.0</td>\n",
       "      <td>1.0</td>\n",
       "      <td>69.0</td>\n",
       "      <td>1.0</td>\n",
       "    </tr>\n",
       "    <tr>\n",
       "      <th>1278</th>\n",
       "      <td>ES</td>\n",
       "      <td>5.0</td>\n",
       "      <td>6</td>\n",
       "      <td>4.0</td>\n",
       "      <td>5.0</td>\n",
       "      <td>7.0</td>\n",
       "      <td>5.0</td>\n",
       "      <td>10.0</td>\n",
       "      <td>6.0</td>\n",
       "      <td>1.0</td>\n",
       "      <td>...</td>\n",
       "      <td>2.0</td>\n",
       "      <td>7.0</td>\n",
       "      <td>7.0</td>\n",
       "      <td>6.0</td>\n",
       "      <td>8.0</td>\n",
       "      <td>7.0</td>\n",
       "      <td>3.0</td>\n",
       "      <td>1.0</td>\n",
       "      <td>46.0</td>\n",
       "      <td>1.0</td>\n",
       "    </tr>\n",
       "  </tbody>\n",
       "</table>\n",
       "<p>2 rows × 24 columns</p>\n",
       "</div>"
      ],
      "text/plain": [
       "     cntry  idno  year_x  tvtot_x  ppltrst_x  pplfair_x  pplhlp_x  happy_x  \\\n",
       "0       CH   5.0       6      3.0        3.0       10.0       5.0      8.0   \n",
       "1278    ES   5.0       6      4.0        5.0        7.0       5.0     10.0   \n",
       "\n",
       "      sclmeet_x  sclact_x  ...  tvtot_y  ppltrst_y  pplfair_y  pplhlp_y  \\\n",
       "0           5.0       4.0  ...      2.0        8.0        9.0       7.0   \n",
       "1278        6.0       1.0  ...      2.0        7.0        7.0       6.0   \n",
       "\n",
       "      happy_y  sclmeet_y  sclact_y  gndr_y  agea_y  partner_y  \n",
       "0         9.0        6.0       4.0     1.0    69.0        1.0  \n",
       "1278      8.0        7.0       3.0     1.0    46.0        1.0  \n",
       "\n",
       "[2 rows x 24 columns]"
      ]
     },
     "execution_count": 15,
     "metadata": {},
     "output_type": "execute_result"
    }
   ],
   "source": [
    "result[result['idno'] == 5.0]"
   ]
  },
  {
   "cell_type": "code",
   "execution_count": 16,
   "metadata": {},
   "outputs": [
    {
     "name": "stdout",
     "output_type": "stream",
     "text": [
      "Country: SE\n",
      "\n",
      "Number of Responders: 827\n",
      "Avg Trust in 2012: 6.03627569528416\n",
      "Avg Trust in 2014: 6.259975816203144\n",
      "\n",
      "WilcoxonResult(statistic=104619.5, pvalue=0.02061688328724722) \n",
      "\n",
      "Country: DE\n",
      "\n",
      "Number of Responders: 13\n",
      "Avg Trust in 2012: 5.076923076923077\n",
      "Avg Trust in 2014: 5.230769230769231\n",
      "\n",
      "WilcoxonResult(statistic=44.0, pvalue=0.9157134600899863) \n",
      "\n",
      "Country: CH\n",
      "\n",
      "Number of Responders: 707\n",
      "Avg Trust in 2012: 5.691654879773692\n",
      "Avg Trust in 2014: 5.724186704384724\n",
      "\n",
      "WilcoxonResult(statistic=88744.5, pvalue=0.6870826298273109) \n",
      "\n",
      "Country: CZ\n",
      "\n",
      "Number of Responders: 556\n",
      "Avg Trust in 2012: 4.39748201438849\n",
      "Avg Trust in 2014: 4.368705035971223\n",
      "\n",
      "WilcoxonResult(statistic=61723.5, pvalue=0.8390600771803833) \n",
      "\n",
      "Country: ES\n",
      "\n",
      "Number of Responders: 1085\n",
      "Avg Trust in 2012: 5.121658986175115\n",
      "Avg Trust in 2014: 4.941013824884792\n",
      "\n",
      "WilcoxonResult(statistic=197976.0, pvalue=0.03498230453843465) \n",
      "\n",
      "Country: NO\n",
      "\n",
      "Number of Responders: 689\n",
      "Avg Trust in 2012: 6.637155297532656\n",
      "Avg Trust in 2014: 6.5747460087082725\n",
      "\n",
      "WilcoxonResult(statistic=75026.5, pvalue=0.6221446415196722) \n",
      "\n"
     ]
    }
   ],
   "source": [
    "for cntry in set(result['cntry']):\n",
    "\n",
    "    a = result[result['cntry'] == cntry]['ppltrst_x']\n",
    "    b = result[result['cntry'] == cntry]['ppltrst_y']\n",
    "\n",
    "    print('Country: {}\\n'.format(cntry))\n",
    "    print('Number of Responders: {}'.format(len(a)))\n",
    "    print('Avg Trust in 2012: {}'.format(np.mean(a)))\n",
    "    print('Avg Trust in 2014: {}\\n'.format(np.mean(b)))\n",
    "    print(stats.wilcoxon(a, b), '\\n')"
   ]
  },
  {
   "cell_type": "code",
   "execution_count": 17,
   "metadata": {},
   "outputs": [
    {
     "name": "stdout",
     "output_type": "stream",
     "text": [
      "2012:  (0.8943395018577576, 0.0)\n",
      "2014:  (0.9060227870941162, 1.2611686178923354e-44)\n"
     ]
    }
   ],
   "source": [
    "#If the p-value is greater than 0.05, then the null hypothesis is not rejected, which means the data is normally distributed.\n",
    "\n",
    "print('2012: ', stats.shapiro(df[df['year'] == 6]['happy']))\n",
    "print('2014: ', stats.shapiro(df[df['year'] == 7]['happy']))"
   ]
  },
  {
   "cell_type": "code",
   "execution_count": 18,
   "metadata": {},
   "outputs": [
    {
     "name": "stdout",
     "output_type": "stream",
     "text": [
      "Country: SE\n",
      "\n",
      "Number of Responders: 827\n",
      "Avg Happiness in 2012: 7.894800483675938\n",
      "Avg Happiness in 2014: 7.94074969770254\n",
      "\n",
      "WilcoxonResult(statistic=103562.0, pvalue=0.5895941229841813) \n",
      "\n",
      "Country: DE\n",
      "\n",
      "Number of Responders: 13\n",
      "Avg Happiness in 2012: 7.3076923076923075\n",
      "Avg Happiness in 2014: 7.923076923076923\n",
      "\n",
      "WilcoxonResult(statistic=16.0, pvalue=0.2365019314807173) \n",
      "\n",
      "Country: CH\n",
      "\n",
      "Number of Responders: 707\n",
      "Avg Happiness in 2012: 8.074964639321076\n",
      "Avg Happiness in 2014: 8.123055162659123\n",
      "\n",
      "WilcoxonResult(statistic=75726.5, pvalue=0.7575607435639675) \n",
      "\n",
      "Country: CZ\n",
      "\n",
      "Number of Responders: 556\n",
      "Avg Happiness in 2012: 6.780575539568345\n",
      "Avg Happiness in 2014: 6.9352517985611515\n",
      "\n",
      "WilcoxonResult(statistic=55932.0, pvalue=0.22849644123659796) \n",
      "\n",
      "Country: ES\n",
      "\n",
      "Number of Responders: 1085\n",
      "Avg Happiness in 2012: 7.545622119815668\n",
      "Avg Happiness in 2014: 7.450691244239631\n",
      "\n",
      "WilcoxonResult(statistic=190064.5, pvalue=0.1573993272703731) \n",
      "\n",
      "Country: NO\n",
      "\n",
      "Number of Responders: 689\n",
      "Avg Happiness in 2012: 8.253991291727141\n",
      "Avg Happiness in 2014: 7.90566037735849\n",
      "\n",
      "WilcoxonResult(statistic=60547.0, pvalue=1.4306917852645772e-05) \n",
      "\n"
     ]
    }
   ],
   "source": [
    "for cntry in set(result['cntry']):\n",
    "\n",
    "    a = result[result['cntry'] == cntry]['happy_x']\n",
    "    b = result[result['cntry'] == cntry]['happy_y']\n",
    "\n",
    "    print('Country: {}\\n'.format(cntry))\n",
    "    print('Number of Responders: {}'.format(len(a)))\n",
    "    print('Avg Happiness in 2012: {}'.format(np.mean(a)))\n",
    "    print('Avg Happiness in 2014: {}\\n'.format(np.mean(b)))\n",
    "    print(stats.wilcoxon(a, b), '\\n')"
   ]
  },
  {
   "cell_type": "code",
   "execution_count": 19,
   "metadata": {},
   "outputs": [
    {
     "name": "stdout",
     "output_type": "stream",
     "text": [
      "2012 Men:    (0.9443334937095642, 3.718612884828085e-27)\n",
      "2012 Women:  (0.9407297372817993, 1.0867231118970029e-27)\n"
     ]
    }
   ],
   "source": [
    "#If the p-value is greater than 0.05, then the null hypothesis is not rejected, which means the data is normally distributed.\n",
    "\n",
    "print('2012 Men:   ', stats.shapiro(df[((df['year'] == 6) & (df['gndr'] == 1.0))]['tvtot']))\n",
    "print('2012 Women: ', stats.shapiro(df[((df['year'] == 6) & (df['gndr'] == 2.0))]['tvtot']))"
   ]
  },
  {
   "cell_type": "code",
   "execution_count": 20,
   "metadata": {},
   "outputs": [
    {
     "name": "stdout",
     "output_type": "stream",
     "text": [
      "Avg TV Men: 3.8592303945445687\n",
      "Avg TV Women: 3.9053518334985133\n"
     ]
    },
    {
     "data": {
      "text/plain": [
       "MannwhitneyuResult(statistic=2042391.5, pvalue=0.2165401933322842)"
      ]
     },
     "execution_count": 20,
     "metadata": {},
     "output_type": "execute_result"
    }
   ],
   "source": [
    "a = df[((df['year'] == 6) & (df['gndr'] == 1.0))]['tvtot']\n",
    "b = df[((df['year'] == 6) & (df['gndr'] == 2.0))]['tvtot']\n",
    "\n",
    "print('Avg TV Men: {}'.format(np.mean(a)))\n",
    "print('Avg TV Women: {}'.format(np.mean(b)))\n",
    "\n",
    "stats.mannwhitneyu(a, b)"
   ]
  },
  {
   "cell_type": "code",
   "execution_count": 21,
   "metadata": {},
   "outputs": [
    {
     "data": {
      "text/plain": [
       "KruskalResult(statistic=0.6145695087428265, pvalue=0.4330724786171142)"
      ]
     },
     "execution_count": 21,
     "metadata": {},
     "output_type": "execute_result"
    }
   ],
   "source": [
    "stats.kruskal(a, b)"
   ]
  },
  {
   "cell_type": "code",
   "execution_count": 22,
   "metadata": {},
   "outputs": [
    {
     "data": {
      "text/plain": [
       "(0.09368265277280617, 0.7595466128937625, 4.0, array([[ 787,  784],\n",
       "        [1266, 1234]]))"
      ]
     },
     "execution_count": 22,
     "metadata": {},
     "output_type": "execute_result"
    }
   ],
   "source": [
    "stats.median_test(a, b)"
   ]
  },
  {
   "cell_type": "code",
   "execution_count": 23,
   "metadata": {},
   "outputs": [
    {
     "name": "stdout",
     "output_type": "stream",
     "text": [
      "2012 w/ Partner:  (0.9396088123321533, 5.344745707680362e-31)\n",
      "2012 no Partner:  (0.9547916650772095, 2.436869843664993e-21)\n"
     ]
    }
   ],
   "source": [
    "#If the p-value is greater than 0.05, then the null hypothesis is not rejected, which means the data is normally distributed.\n",
    "\n",
    "print('2012 w/ Partner: ', stats.shapiro(df[((df['year'] == 6) & (df['partner'] == 1.0))]['pplfair']))\n",
    "print('2012 no Partner: ', stats.shapiro(df[((df['year'] == 6) & (df['partner'] == 2.0))]['pplfair']))"
   ]
  },
  {
   "cell_type": "code",
   "execution_count": 24,
   "metadata": {},
   "outputs": [
    {
     "name": "stdout",
     "output_type": "stream",
     "text": [
      "Avg Fairness w/ Partner: 6.0743509047993705\n",
      "Avg Fairness no Partner: 5.86592544146501\n"
     ]
    },
    {
     "data": {
      "text/plain": [
       "MannwhitneyuResult(statistic=1819821.5, pvalue=0.00028258143613772957)"
      ]
     },
     "execution_count": 24,
     "metadata": {},
     "output_type": "execute_result"
    }
   ],
   "source": [
    "a = df[((df['year'] == 6) & (df['partner'] == 1.0))]['pplfair']\n",
    "b = df[((df['year'] == 6) & (df['partner'] == 2.0))]['pplfair']\n",
    "\n",
    "print('Avg Fairness w/ Partner: {}'.format(np.mean(a)))\n",
    "print('Avg Fairness no Partner: {}'.format(np.mean(b)))\n",
    "\n",
    "stats.mannwhitneyu(a, b)"
   ]
  },
  {
   "cell_type": "code",
   "execution_count": 25,
   "metadata": {},
   "outputs": [
    {
     "data": {
      "text/plain": [
       "(15.427324224044817, 8.573954635635481e-05, 6.0, array([[1290,  678],\n",
       "        [1252,  851]]))"
      ]
     },
     "execution_count": 25,
     "metadata": {},
     "output_type": "execute_result"
    }
   ],
   "source": [
    "stats.median_test(a, b)"
   ]
  },
  {
   "cell_type": "code",
   "execution_count": 26,
   "metadata": {},
   "outputs": [],
   "source": [
    "a = df[((df['year'] == 7) & (df['cntry'] == 'CZ'))]['sclmeet']\n",
    "b = df[((df['year'] == 7) & (df['cntry'] == 'NO'))]['sclmeet']\n",
    "c = df[((df['year'] == 7) & (df['cntry'] == 'ES'))]['sclmeet']"
   ]
  },
  {
   "cell_type": "code",
   "execution_count": 27,
   "metadata": {},
   "outputs": [
    {
     "name": "stdout",
     "output_type": "stream",
     "text": [
      "2014 CZ:  (0.9442528486251831, 2.5791458676876697e-14)\n",
      "2014 CZ Avg Social Meet Score:  4.4950495049504955\n",
      "2014 NO:  (0.887718915939331, 2.537563078833279e-22)\n",
      "2014 NO Avg Social Meet Score:  5.310393258426966\n",
      "2014 ES:  (0.8927679657936096, 2.280180298346974e-27)\n",
      "2014 ES Avg Social Meet Score:  5.263668430335097\n"
     ]
    }
   ],
   "source": [
    "#If the p-value is greater than 0.05, then the null hypothesis is not rejected, which means the data is normally distributed.\n",
    "\n",
    "print('2014 CZ: ', stats.shapiro(a))\n",
    "print('2014 CZ Avg Social Meet Score: ', np.mean(a))\n",
    "print('2014 NO: ', stats.shapiro(b))\n",
    "print('2014 NO Avg Social Meet Score: ', np.mean(b))\n",
    "print('2014 ES: ', stats.shapiro(c))\n",
    "print('2014 ES Avg Social Meet Score: ', np.mean(c))"
   ]
  },
  {
   "cell_type": "code",
   "execution_count": 28,
   "metadata": {},
   "outputs": [
    {
     "data": {
      "text/plain": [
       "KruskalResult(statistic=137.9976462625727, pvalue=1.0819117969111045e-30)"
      ]
     },
     "execution_count": 28,
     "metadata": {},
     "output_type": "execute_result"
    }
   ],
   "source": [
    "stats.kruskal(a, b, c)"
   ]
  },
  {
   "cell_type": "code",
   "execution_count": 29,
   "metadata": {},
   "outputs": [
    {
     "name": "stdout",
     "output_type": "stream",
     "text": [
      "MannwhitneyuResult(statistic=147801.0, pvalue=2.4170120935752383e-24)\n",
      "MannwhitneyuResult(statistic=238281.0, pvalue=2.119303290451085e-27)\n",
      "MannwhitneyuResult(statistic=400483.5, pvalue=0.38301876951707503)\n"
     ]
    }
   ],
   "source": [
    "print(stats.mannwhitneyu(a, b))\n",
    "print(stats.mannwhitneyu(a, c))\n",
    "print(stats.mannwhitneyu(b, c))"
   ]
  },
  {
   "cell_type": "code",
   "execution_count": 30,
   "metadata": {},
   "outputs": [
    {
     "name": "stdout",
     "output_type": "stream",
     "text": [
      "(102.11071453758723, 5.2503798209606056e-24, 5.0, array([[171, 399],\n",
      "       [435, 313]]))\n",
      "(86.83561955638503, 1.1792638440257081e-20, 5.0, array([[171, 585],\n",
      "       [435, 549]]))\n",
      "(0.43918486689100733, 0.5075161479804948, 6.0, array([[134, 229],\n",
      "       [578, 905]]))\n"
     ]
    }
   ],
   "source": [
    "print(stats.median_test(a, b))\n",
    "print(stats.median_test(a, c))\n",
    "print(stats.median_test(b, c))"
   ]
  },
  {
   "cell_type": "code",
   "execution_count": 31,
   "metadata": {},
   "outputs": [],
   "source": [
    "age_bins = [0, 20, 30, 40, 50, 60, 70, 120]\n",
    "bin_names = ['<= 20', '21-30', '31-40', '41-50', '51-60', '61-70', '> 70']\n",
    "age_groups = pd.cut(df['agea'], age_bins, labels = bin_names)\n",
    "df['age_bin'] = age_groups"
   ]
  },
  {
   "cell_type": "code",
   "execution_count": 32,
   "metadata": {},
   "outputs": [
    {
     "data": {
      "text/html": [
       "<div>\n",
       "<style scoped>\n",
       "    .dataframe tbody tr th:only-of-type {\n",
       "        vertical-align: middle;\n",
       "    }\n",
       "\n",
       "    .dataframe tbody tr th {\n",
       "        vertical-align: top;\n",
       "    }\n",
       "\n",
       "    .dataframe thead th {\n",
       "        text-align: right;\n",
       "    }\n",
       "</style>\n",
       "<table border=\"1\" class=\"dataframe\">\n",
       "  <thead>\n",
       "    <tr style=\"text-align: right;\">\n",
       "      <th></th>\n",
       "      <th>cntry</th>\n",
       "      <th>idno</th>\n",
       "      <th>year</th>\n",
       "      <th>tvtot</th>\n",
       "      <th>ppltrst</th>\n",
       "      <th>pplfair</th>\n",
       "      <th>pplhlp</th>\n",
       "      <th>happy</th>\n",
       "      <th>sclmeet</th>\n",
       "      <th>sclact</th>\n",
       "      <th>gndr</th>\n",
       "      <th>agea</th>\n",
       "      <th>partner</th>\n",
       "      <th>age_bin</th>\n",
       "    </tr>\n",
       "  </thead>\n",
       "  <tbody>\n",
       "    <tr>\n",
       "      <th>0</th>\n",
       "      <td>CH</td>\n",
       "      <td>5.0</td>\n",
       "      <td>6</td>\n",
       "      <td>3.0</td>\n",
       "      <td>3.0</td>\n",
       "      <td>10.0</td>\n",
       "      <td>5.0</td>\n",
       "      <td>8.0</td>\n",
       "      <td>5.0</td>\n",
       "      <td>4.0</td>\n",
       "      <td>2.0</td>\n",
       "      <td>60.0</td>\n",
       "      <td>1.0</td>\n",
       "      <td>51-60</td>\n",
       "    </tr>\n",
       "    <tr>\n",
       "      <th>1</th>\n",
       "      <td>CH</td>\n",
       "      <td>25.0</td>\n",
       "      <td>6</td>\n",
       "      <td>6.0</td>\n",
       "      <td>5.0</td>\n",
       "      <td>7.0</td>\n",
       "      <td>5.0</td>\n",
       "      <td>9.0</td>\n",
       "      <td>3.0</td>\n",
       "      <td>2.0</td>\n",
       "      <td>2.0</td>\n",
       "      <td>59.0</td>\n",
       "      <td>1.0</td>\n",
       "      <td>51-60</td>\n",
       "    </tr>\n",
       "    <tr>\n",
       "      <th>2</th>\n",
       "      <td>CH</td>\n",
       "      <td>26.0</td>\n",
       "      <td>6</td>\n",
       "      <td>1.0</td>\n",
       "      <td>8.0</td>\n",
       "      <td>8.0</td>\n",
       "      <td>8.0</td>\n",
       "      <td>7.0</td>\n",
       "      <td>6.0</td>\n",
       "      <td>3.0</td>\n",
       "      <td>1.0</td>\n",
       "      <td>24.0</td>\n",
       "      <td>2.0</td>\n",
       "      <td>21-30</td>\n",
       "    </tr>\n",
       "    <tr>\n",
       "      <th>3</th>\n",
       "      <td>CH</td>\n",
       "      <td>28.0</td>\n",
       "      <td>6</td>\n",
       "      <td>4.0</td>\n",
       "      <td>6.0</td>\n",
       "      <td>6.0</td>\n",
       "      <td>7.0</td>\n",
       "      <td>10.0</td>\n",
       "      <td>6.0</td>\n",
       "      <td>2.0</td>\n",
       "      <td>2.0</td>\n",
       "      <td>64.0</td>\n",
       "      <td>1.0</td>\n",
       "      <td>61-70</td>\n",
       "    </tr>\n",
       "    <tr>\n",
       "      <th>4</th>\n",
       "      <td>CH</td>\n",
       "      <td>29.0</td>\n",
       "      <td>6</td>\n",
       "      <td>5.0</td>\n",
       "      <td>6.0</td>\n",
       "      <td>7.0</td>\n",
       "      <td>5.0</td>\n",
       "      <td>8.0</td>\n",
       "      <td>7.0</td>\n",
       "      <td>2.0</td>\n",
       "      <td>2.0</td>\n",
       "      <td>55.0</td>\n",
       "      <td>1.0</td>\n",
       "      <td>51-60</td>\n",
       "    </tr>\n",
       "  </tbody>\n",
       "</table>\n",
       "</div>"
      ],
      "text/plain": [
       "  cntry  idno  year  tvtot  ppltrst  pplfair  pplhlp  happy  sclmeet  sclact  \\\n",
       "0    CH   5.0     6    3.0      3.0     10.0     5.0    8.0      5.0     4.0   \n",
       "1    CH  25.0     6    6.0      5.0      7.0     5.0    9.0      3.0     2.0   \n",
       "2    CH  26.0     6    1.0      8.0      8.0     8.0    7.0      6.0     3.0   \n",
       "3    CH  28.0     6    4.0      6.0      6.0     7.0   10.0      6.0     2.0   \n",
       "4    CH  29.0     6    5.0      6.0      7.0     5.0    8.0      7.0     2.0   \n",
       "\n",
       "   gndr  agea  partner age_bin  \n",
       "0   2.0  60.0      1.0   51-60  \n",
       "1   2.0  59.0      1.0   51-60  \n",
       "2   1.0  24.0      2.0   21-30  \n",
       "3   2.0  64.0      1.0   61-70  \n",
       "4   2.0  55.0      1.0   51-60  "
      ]
     },
     "execution_count": 32,
     "metadata": {},
     "output_type": "execute_result"
    }
   ],
   "source": [
    "df.head()"
   ]
  },
  {
   "cell_type": "code",
   "execution_count": 33,
   "metadata": {},
   "outputs": [
    {
     "name": "stdout",
     "output_type": "stream",
     "text": [
      "Group: <= 20\n",
      "\n",
      "(0.8572292327880859, 4.763948527397588e-05)\n",
      "(0.8225530982017517, 8.551379693244598e-08)\n",
      "(0.8558431267738342, 2.2334506866172887e-07)\n",
      "\n",
      "\n",
      "Group: 21-30\n",
      "\n",
      "(0.7657854557037354, 1.8513143795750864e-10)\n",
      "(0.8451725244522095, 2.5140071358009664e-08)\n",
      "(0.8737792372703552, 6.149757925122401e-10)\n",
      "\n",
      "\n",
      "Group: 31-40\n",
      "\n",
      "(0.8209254741668701, 5.929730595433114e-10)\n",
      "(0.8703453540802002, 3.636592182942877e-08)\n",
      "(0.84430992603302, 5.566013145177906e-13)\n",
      "\n",
      "\n",
      "Group: 41-50\n",
      "\n",
      "(0.8134452700614929, 1.8597807321940607e-11)\n",
      "(0.8450345993041992, 8.665011069775019e-11)\n",
      "(0.8835360407829285, 3.0491076243727155e-12)\n",
      "\n",
      "\n",
      "Group: 51-60\n",
      "\n",
      "(0.8514318466186523, 5.807427316817382e-10)\n",
      "(0.84114009141922, 2.5128521485839883e-10)\n",
      "(0.9013221263885498, 2.6369018080174556e-10)\n",
      "\n",
      "\n",
      "Group: 61-70\n",
      "\n",
      "(0.8865365982055664, 3.880475560436025e-06)\n",
      "(0.8779763579368591, 9.524568156393798e-08)\n",
      "(0.9001231789588928, 4.173996970280314e-08)\n",
      "\n",
      "\n",
      "Group: > 70\n",
      "\n",
      "(0.8752238750457764, 0.0010820581810548902)\n",
      "(0.8903095722198486, 8.854847692418844e-06)\n",
      "(0.8800166249275208, 1.5053646107432428e-09)\n",
      "\n",
      "\n"
     ]
    }
   ],
   "source": [
    "#Test whether the data are normally distributed for each group using the Shapiro test\n",
    "\n",
    "for grp in bin_names:\n",
    "    a = df[((df['year'] == 7) & (df['cntry'] == 'CZ') & (df['age_bin'] == grp))]['sclact']\n",
    "    b = df[((df['year'] == 7) & (df['cntry'] == 'NO') & (df['age_bin'] == grp))]['sclact']\n",
    "    c = df[((df['year'] == 7) & (df['cntry'] == 'ES') & (df['age_bin'] == grp))]['sclact']\n",
    "    print('Group: {}\\n'.format(grp))\n",
    "    print(stats.shapiro(a))\n",
    "    print(stats.shapiro(b))\n",
    "    print(stats.shapiro(c))\n",
    "    print('\\n')"
   ]
  },
  {
   "cell_type": "code",
   "execution_count": 34,
   "metadata": {},
   "outputs": [
    {
     "name": "stdout",
     "output_type": "stream",
     "text": [
      "Group: <= 20\n",
      "\n",
      "2014 CZ Avg Social Act Score:  3.0217391304347827\n",
      "2014 NO Avg Social Act Score:  2.9859154929577465\n",
      "2014 ES Avg Social Act Score:  2.691358024691358\n",
      "KruskalResult(statistic=6.387824492891342, pvalue=0.041011111104415326)\n",
      "\n",
      "\n",
      "Group: 21-30\n",
      "\n",
      "2014 CZ Avg Social Act Score:  2.9195402298850577\n",
      "2014 NO Avg Social Act Score:  2.934065934065934\n",
      "2014 ES Avg Social Act Score:  2.751677852348993\n",
      "KruskalResult(statistic=4.2100237007904004, pvalue=0.12184423035824231)\n",
      "\n",
      "\n",
      "Group: 31-40\n",
      "\n",
      "2014 CZ Avg Social Act Score:  2.5904761904761906\n",
      "2014 NO Avg Social Act Score:  2.811320754716981\n",
      "2014 ES Avg Social Act Score:  2.6736842105263157\n",
      "KruskalResult(statistic=2.560809853479929, pvalue=0.2779247385067421)\n",
      "\n",
      "\n",
      "Group: 41-50\n",
      "\n",
      "2014 CZ Avg Social Act Score:  2.6484375\n",
      "2014 NO Avg Social Act Score:  2.79136690647482\n",
      "2014 ES Avg Social Act Score:  2.7149122807017543\n",
      "KruskalResult(statistic=2.161787351650466, pvalue=0.3392921729030085)\n",
      "\n",
      "\n",
      "Group: 51-60\n",
      "\n",
      "2014 CZ Avg Social Act Score:  2.6692913385826773\n",
      "2014 NO Avg Social Act Score:  2.7698412698412698\n",
      "2014 ES Avg Social Act Score:  2.6584158415841586\n",
      "KruskalResult(statistic=1.0782864162597914, pvalue=0.5832477602955471)\n",
      "\n",
      "\n",
      "Group: 61-70\n",
      "\n",
      "2014 CZ Avg Social Act Score:  2.8734177215189876\n",
      "2014 NO Avg Social Act Score:  2.9134615384615383\n",
      "2014 ES Avg Social Act Score:  2.591240875912409\n",
      "KruskalResult(statistic=8.104112680983993, pvalue=0.01738658511539082)\n",
      "\n",
      "\n",
      "Group: > 70\n",
      "\n",
      "2014 CZ Avg Social Act Score:  2.4705882352941178\n",
      "2014 NO Avg Social Act Score:  2.933333333333333\n",
      "2014 ES Avg Social Act Score:  2.292517006802721\n",
      "KruskalResult(statistic=19.90231530167342, pvalue=4.7672413970328e-05)\n",
      "\n",
      "\n"
     ]
    }
   ],
   "source": [
    "for grp in bin_names:\n",
    "    a = df[((df['year'] == 7) & (df['cntry'] == 'CZ') & (df['age_bin'] == grp))]['sclact']\n",
    "    b = df[((df['year'] == 7) & (df['cntry'] == 'NO') & (df['age_bin'] == grp))]['sclact']\n",
    "    c = df[((df['year'] == 7) & (df['cntry'] == 'ES') & (df['age_bin'] == grp))]['sclact']\n",
    "    print('Group: {}\\n'.format(grp))\n",
    "    print('2014 CZ Avg Social Act Score: ', np.mean(a))\n",
    "    print('2014 NO Avg Social Act Score: ', np.mean(b))\n",
    "    print('2014 ES Avg Social Act Score: ', np.mean(c))\n",
    "    print(stats.kruskal(a, b, c))\n",
    "    print('\\n')"
   ]
  },
  {
   "cell_type": "code",
   "execution_count": 35,
   "metadata": {},
   "outputs": [
    {
     "name": "stdout",
     "output_type": "stream",
     "text": [
      "Group: <= 20\n",
      "\n",
      "MannwhitneyuResult(statistic=1502.5, pvalue=0.2094694610737548)\n",
      "MannwhitneyuResult(statistic=1446.5, pvalue=0.012034285032599443)\n",
      "MannwhitneyuResult(statistic=2419.0, pvalue=0.0315579008576707)\n",
      "\n",
      "\n",
      "Group: 61-70\n",
      "\n",
      "MannwhitneyuResult(statistic=4083.0, pvalue=0.47036282151970155)\n",
      "MannwhitneyuResult(statistic=4513.5, pvalue=0.01628793880311849)\n",
      "MannwhitneyuResult(statistic=5827.5, pvalue=0.005221759968042666)\n",
      "\n",
      "\n",
      "Group: > 70\n",
      "\n",
      "MannwhitneyuResult(statistic=957.5, pvalue=0.014116070654811245)\n",
      "MannwhitneyuResult(statistic=2219.5, pvalue=0.1458613683321709)\n",
      "MannwhitneyuResult(statistic=3582.5, pvalue=4.568354549125777e-06)\n",
      "\n",
      "\n"
     ]
    }
   ],
   "source": [
    "bin_names2 = ['<= 20', '61-70', '> 70']\n",
    "\n",
    "for grp in bin_names2:\n",
    "    a = df[((df['year'] == 7) & (df['cntry'] == 'CZ') & (df['age_bin'] == grp))]['sclact']\n",
    "    b = df[((df['year'] == 7) & (df['cntry'] == 'NO') & (df['age_bin'] == grp))]['sclact']\n",
    "    c = df[((df['year'] == 7) & (df['cntry'] == 'ES') & (df['age_bin'] == grp))]['sclact']\n",
    "    print('Group: {}\\n'.format(grp))\n",
    "    print(stats.mannwhitneyu(a, b))\n",
    "    print(stats.mannwhitneyu(a, c))\n",
    "    print(stats.mannwhitneyu(b, c))\n",
    "    print('\\n')"
   ]
  },
  {
   "cell_type": "code",
   "execution_count": null,
   "metadata": {},
   "outputs": [],
   "source": []
  }
 ],
 "metadata": {
  "kernelspec": {
   "display_name": "Python 3",
   "language": "python",
   "name": "python3"
  },
  "language_info": {
   "codemirror_mode": {
    "name": "ipython",
    "version": 3
   },
   "file_extension": ".py",
   "mimetype": "text/x-python",
   "name": "python",
   "nbconvert_exporter": "python",
   "pygments_lexer": "ipython3",
   "version": "3.7.4"
  }
 },
 "nbformat": 4,
 "nbformat_minor": 4
}
